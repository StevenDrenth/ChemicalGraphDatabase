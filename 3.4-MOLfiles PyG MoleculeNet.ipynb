{
  "cells": [
    {
      "cell_type": "markdown",
      "metadata": {},
      "source": [
        "# MoleculeNet Pytorch Geometric\n",
        "In this notebook, the file input in the style of MoleculeNet is loaded. </br>\n",
        "Note that, due to problems with the local environment and pytorch, this notebook was tested and developed to work in google colab. "
      ]
    },
    {
      "cell_type": "code",
      "execution_count": null,
      "metadata": {
        "colab": {
          "base_uri": "https://localhost:8080/"
        },
        "id": "Tn8tUxnvi4s_",
        "outputId": "ceb8a2d6-8479-4bd1-f320-023e19a73ea9"
      },
      "outputs": [
        {
          "name": "stdout",
          "output_type": "stream",
          "text": [
            "Looking in indexes: https://pypi.org/simple, https://us-python.pkg.dev/colab-wheels/public/simple/\n",
            "Collecting rdkit\n",
            "  Downloading rdkit-2022.3.5-cp37-cp37m-manylinux_2_17_x86_64.manylinux2014_x86_64.whl (36.8 MB)\n",
            "\u001b[K     |████████████████████████████████| 36.8 MB 265 kB/s \n",
            "\u001b[?25hRequirement already satisfied: numpy in /usr/local/lib/python3.7/dist-packages (from rdkit) (1.21.6)\n",
            "Requirement already satisfied: Pillow in /usr/local/lib/python3.7/dist-packages (from rdkit) (7.1.2)\n",
            "Installing collected packages: rdkit\n",
            "Successfully installed rdkit-2022.3.5\n"
          ]
        }
      ],
      "source": [
        "pip install rdkit"
      ]
    },
    {
      "cell_type": "code",
      "execution_count": null,
      "metadata": {
        "colab": {
          "base_uri": "https://localhost:8080/"
        },
        "id": "5foaUJmmNUWR",
        "outputId": "2d4d0442-c744-435c-90ae-3f6c3de1b090"
      },
      "outputs": [
        {
          "name": "stdout",
          "output_type": "stream",
          "text": [
            "1.12.1+cu113\n",
            "\u001b[K     |████████████████████████████████| 7.9 MB 2.3 MB/s \n",
            "\u001b[K     |████████████████████████████████| 3.5 MB 2.3 MB/s \n",
            "\u001b[?25h  Building wheel for torch-geometric (setup.py) ... \u001b[?25l\u001b[?25hdone\n"
          ]
        }
      ],
      "source": [
        "# Install required packages.\n",
        "import os\n",
        "import torch\n",
        "os.environ['TORCH'] = torch.__version__\n",
        "print(torch.__version__)\n",
        "\n",
        "!pip install -q torch-scatter -f https://data.pyg.org/whl/torch-${TORCH}.html\n",
        "!pip install -q torch-sparse -f https://data.pyg.org/whl/torch-${TORCH}.html\n",
        "!pip install -q git+https://github.com/pyg-team/pytorch_geometric.git"
      ]
    },
    {
      "cell_type": "code",
      "execution_count": null,
      "metadata": {
        "id": "nhAjGXSvM-Rv"
      },
      "outputs": [],
      "source": [
        "import pandas as pd\n",
        "import rdkit\n",
        "from torch_geometric.io import read_txt_array\n",
        "from torch_geometric.data import Data"
      ]
    },
    {
      "cell_type": "markdown",
      "metadata": {
        "id": "FBJ39gB8u95H"
      },
      "source": [
        "## Load the different .txt docoments"
      ]
    },
    {
      "cell_type": "code",
      "execution_count": null,
      "metadata": {
        "id": "x0bUEXUTkpde"
      },
      "outputs": [],
      "source": [
        "x = read_txt_array('mol_x.txt', sep = ',')\n",
        "edge_index = read_txt_array('mol_A.txt', sep = ',').t().to(torch.long)\n",
        "graph_id = read_txt_array('mol_graph_indicator.txt', sep = ',')\n",
        "edge_attr = read_txt_array('mol_edge_labels2.txt', sep = ',')"
      ]
    },
    {
      "cell_type": "code",
      "execution_count": null,
      "metadata": {
        "id": "vNZwxOwkqkDI"
      },
      "outputs": [],
      "source": [
        "# def parse_txt_alt(src, sep=None, start=0, end=None, dtype=None, device=None):\n",
        "#     src = [[float(x) for x in line.split(sep)[start:end]] for line in src]\n",
        "#     src = torch.tensor(src, dtype=dtype)\n",
        "#     return src\n",
        "\n",
        "# def read_txt_alt(path, sep=None, start=0, end=None, dtype=None, device=None):\n",
        "#     with open(path, 'r') as f:\n",
        "#         src = f.read().split('\\n')[:-1]\n",
        "#     return parse_txt_alt(src, sep, start, end, dtype, device)"
      ]
    },
    {
      "cell_type": "markdown",
      "metadata": {},
      "source": [
        "## Load the data\n",
        "Use the pytorch dataloader to load the data"
      ]
    },
    {
      "cell_type": "code",
      "execution_count": null,
      "metadata": {
        "id": "1jzVo7D9uCTU"
      },
      "outputs": [],
      "source": [
        "data = Data(x=x, edge_index=edge_index, edge_attr=edge_attr)"
      ]
    },
    {
      "cell_type": "markdown",
      "metadata": {},
      "source": [
        "Show example of the data"
      ]
    },
    {
      "cell_type": "code",
      "execution_count": null,
      "metadata": {
        "colab": {
          "base_uri": "https://localhost:8080/"
        },
        "id": "_CnRh-GwuoG3",
        "outputId": "0a0a36cc-d946-4fd8-dd4d-2d10cc331934"
      },
      "outputs": [
        {
          "data": {
            "text/plain": [
              "[{'x': tensor([[1.0000e+00, 0.0000e+00, 2.1750e-01,  ..., 0.0000e+00, 1.0000e+00,\n",
              "          0.0000e+00],\n",
              "         [0.0000e+00, 1.0000e+00, 2.1750e-01,  ..., 0.0000e+00, 1.0000e+00,\n",
              "          0.0000e+00],\n",
              "         [1.0000e+00, 0.0000e+00, 2.7940e-01,  ..., 0.0000e+00, 0.0000e+00,\n",
              "          1.0000e+00],\n",
              "         ...,\n",
              "         [1.0000e+00, 0.0000e+00, 2.5000e-03,  ..., 0.0000e+00, 1.0000e+00,\n",
              "          0.0000e+00],\n",
              "         [1.0000e+00, 0.0000e+00, 2.0000e-04,  ..., 0.0000e+00, 1.0000e+00,\n",
              "          0.0000e+00],\n",
              "         [1.0000e+00, 0.0000e+00, 3.2900e-02,  ..., 0.0000e+00, 1.0000e+00,\n",
              "          0.0000e+00]]), 'edge_index': tensor([[  1,   2,   3,   4,   5,   5,   5,   6,   7,   8,   9,   9,   9,  10,\n",
              "           11,  12,  13,  14,  13,  15,  16,  17,  15,  13,  18,  19,  20,  21,\n",
              "           22,  20,  19,  19,  23,  24,  25,  26,  25,  27,  25,  28,  23,  29,\n",
              "           23,  29,  30,  31,  32,  33,  34,  30,  33,  35,  36,  35,  30,  35,\n",
              "           37,  38,  38,  39,  40,  41,  38,  37,  42,  37,  43,  37,  44,  44,\n",
              "           45,  45,  46,  47,  48,  45,  44,  49,  50,  44,  51,  51,  52,  53,\n",
              "           54,  55,  56,  57,  58,  52,  54,  54,  53,  59,  58,  57,  51,  59,\n",
              "           60,  61,  62,  63,  64,  65,  64,  66,  63,  60,  67,  68,  60,  67,\n",
              "           68,  66,  65,  63,  69,  70,  69,  71,  72,  70,  73,  74,  75,  76,\n",
              "           75,  71,  70,  76,  72,  74,  77,  78,  79,  80,  81,  77,  81,  82,\n",
              "           80,  83,  78,  81,  84,  83,  84,  79,  85,  86,  85,  87,  87,  88,\n",
              "           89,  89,  90,  91,  92,  91,  93,  94,  95,  96,  97,  98,  93,  93,\n",
              "           95,  93,  99, 100, 101, 102, 103, 104, 103, 103, 103,  99, 105, 106,\n",
              "          107, 108, 109, 106, 110, 108, 111, 108, 112, 110, 105, 109, 107, 111,\n",
              "          113, 114, 115, 116, 117, 118, 116, 117, 118, 113, 114, 119, 118, 120,\n",
              "          119, 115, 121, 122, 123, 124, 125, 126, 127, 128, 123, 127, 121, 121,\n",
              "          125, 129, 129, 126, 128, 123, 130, 131, 130, 132, 133, 134, 135, 132,\n",
              "          131, 136, 135, 137, 138, 132, 134, 136, 133, 133, 139, 140, 141, 142,\n",
              "          143, 144, 143, 143, 140, 144, 145, 146, 146, 147, 148, 141, 149, 144,\n",
              "          139, 141, 147, 145, 150, 151, 152, 153, 154, 154, 150, 153, 154, 155,\n",
              "          156, 157, 155, 158, 159, 160, 157, 156, 158, 158, 153, 151, 161, 162,\n",
              "          163, 164, 165, 166, 167, 168, 165, 169, 161, 167, 170, 171, 163, 172,\n",
              "          166, 168, 172, 164, 169, 162, 173, 170, 173, 174, 164, 171, 173, 167,\n",
              "          175, 176, 177, 178, 179, 180, 181, 182, 183, 184, 185, 182, 184, 177,\n",
              "          186, 180, 187, 188, 182, 187, 179, 184, 176, 183, 175, 183, 186, 178,\n",
              "          185, 188, 189, 189, 189, 190, 191, 192, 193, 189, 194, 195, 196, 197,\n",
              "          198, 195, 198, 199, 196, 198, 200, 198, 201, 202, 203, 204, 205, 206,\n",
              "          207, 208, 209, 207, 210, 201, 209, 205, 205, 202, 205, 211, 206, 210,\n",
              "          201, 208, 212, 213, 214, 215, 214, 216, 217, 214, 218, 216, 219, 220,\n",
              "          217, 220, 219, 221, 222, 212, 223, 224, 218, 224, 218, 223, 222, 214,\n",
              "          225, 226, 227, 226, 228, 229, 230, 229, 231, 232, 225, 228, 232, 225,\n",
              "          227, 225],\n",
              "         [  2,   1,   4,   3,   6,   7,   8,   5,   5,   5,  10,  11,  12,   9,\n",
              "            9,   9,  15,  15,  17,  13,  13,  13,  14,  16,  20,  20,  18,  19,\n",
              "           19,  19,  22,  21,  27,  29,  29,  23,  23,  23,  28,  25,  25,  25,\n",
              "           26,  24,  35,  35,  35,  34,  33,  33,  30,  30,  30,  31,  36,  32,\n",
              "           39,  43,  42,  37,  37,  37,  37,  40,  38,  38,  38,  41,  46,  48,\n",
              "           49,  44,  44,  44,  44,  50,  47,  45,  45,  45,  56,  55,  58,  58,\n",
              "           51,  51,  51,  52,  52,  57,  57,  59,  59,  53,  53,  54,  54,  54,\n",
              "           63,  63,  63,  60,  60,  60,  68,  68,  62,  65,  65,  64,  64,  66,\n",
              "           66,  67,  67,  61,  74,  74,  75,  75,  73,  72,  72,  69,  69,  71,\n",
              "           71,  76,  76,  70,  70,  70,  80,  80,  78,  78,  83,  83,  84,  84,\n",
              "           77,  77,  79,  79,  82,  81,  81,  81,  87,  87,  88,  86,  85,  85,\n",
              "           92,  91,  91,  90,  89,  89,  97,  93,  93,  93,  93,  95,  95,  94,\n",
              "           98,  96, 103, 103, 103, 103,  99,  99, 100, 102, 101, 104, 107, 107,\n",
              "          105, 105, 111, 111, 112, 109, 109, 110, 110, 108, 108, 108, 106, 106,\n",
              "          118, 118, 118, 119, 119, 114, 114, 115, 115, 120, 116, 116, 113, 113,\n",
              "          117, 117, 124, 121, 121, 121, 127, 127, 126, 126, 125, 125, 122, 123,\n",
              "          123, 123, 128, 128, 129, 129, 135, 135, 134, 134, 137, 130, 130, 136,\n",
              "          136, 131, 131, 133, 133, 133, 132, 132, 132, 138, 146, 146, 142, 141,\n",
              "          141, 141, 148, 149, 145, 145, 140, 140, 139, 139, 143, 143, 143, 147,\n",
              "          147, 144, 144, 144, 155, 155, 158, 158, 158, 159, 156, 156, 160, 150,\n",
              "          150, 151, 151, 154, 154, 154, 153, 153, 153, 152, 157, 157, 163, 163,\n",
              "          161, 161, 170, 170, 173, 173, 173, 164, 164, 164, 166, 166, 162, 162,\n",
              "          171, 171, 169, 169, 172, 172, 165, 165, 167, 167, 167, 168, 168, 174,\n",
              "          178, 178, 176, 176, 185, 185, 184, 184, 184, 181, 179, 179, 183, 183,\n",
              "          183, 188, 188, 187, 187, 182, 182, 182, 177, 177, 186, 186, 175, 175,\n",
              "          180, 180, 193, 191, 190, 189, 189, 189, 189, 192, 198, 198, 198, 198,\n",
              "          197, 200, 196, 196, 199, 194, 195, 195, 205, 205, 205, 205, 201, 201,\n",
              "          201, 210, 210, 208, 208, 206, 206, 203, 204, 211, 202, 202, 209, 209,\n",
              "          207, 207, 213, 212, 212, 222, 222, 224, 224, 219, 219, 218, 218, 218,\n",
              "          223, 223, 214, 214, 214, 214, 217, 217, 216, 216, 220, 220, 215, 221,\n",
              "          229, 229, 228, 228, 226, 226, 225, 225, 225, 225, 231, 227, 227, 232,\n",
              "          232, 230]]), 'edge_attr': tensor([[1., 0., 0.],\n",
              "         [1., 0., 0.],\n",
              "         [0., 1., 0.],\n",
              "         ...,\n",
              "         [1., 0., 0.],\n",
              "         [1., 0., 0.],\n",
              "         [1., 0., 0.]])}]"
            ]
          },
          "execution_count": 22,
          "metadata": {},
          "output_type": "execute_result"
        }
      ],
      "source": [
        "data.edge_stores"
      ]
    }
  ],
  "metadata": {
    "colab": {
      "collapsed_sections": [
        "HVWQFrD1vCfN",
        "A4f-04iuwXqH"
      ],
      "provenance": []
    },
    "kernelspec": {
      "display_name": "Python 3.7.13 ('GNN')",
      "language": "python",
      "name": "python3"
    },
    "language_info": {
      "name": "python",
      "version": "3.7.13"
    },
    "vscode": {
      "interpreter": {
        "hash": "0738a566eb3943a9001d0b87275707c0bb8fdd2f63a0165cae641b428516525a"
      }
    }
  },
  "nbformat": 4,
  "nbformat_minor": 0
}
