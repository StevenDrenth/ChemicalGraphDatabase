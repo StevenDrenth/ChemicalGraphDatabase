{
 "cells": [
  {
   "cell_type": "markdown",
   "id": "b2834ce6",
   "metadata": {},
   "source": [
    "# MOLfiles to Neo4j\n",
    "This notebook converts MOLfiles to a Neo4J graph"
   ]
  },
  {
   "cell_type": "markdown",
   "id": "66586348",
   "metadata": {},
   "source": [
    "## Import of the necessary packages "
   ]
  },
  {
   "cell_type": "code",
   "execution_count": 1,
   "id": "608a83d0",
   "metadata": {},
   "outputs": [],
   "source": [
    "from __future__ import print_function\n",
    "import os, glob\n",
    "from pathlib import Path\n",
    "import subprocess\n",
    "import shutil\n",
    "from rdkit import Chem\n",
    "from rdkit.Chem import AllChem, rdmolops, Lipinski\n",
    "import itertools\n",
    "import numpy as np\n",
    "from functions import *\n",
    "import pandas as pd\n",
    "from neo4j import GraphDatabase\n",
    "import openbabel"
   ]
  },
  {
   "cell_type": "markdown",
   "id": "f8d28677",
   "metadata": {},
   "source": [
    "## Connect with Neo4j\n",
    "Using the official Neo4j tool, the code below lets you connect to a Neo4j database of choice\n",
    "</br>This code is based on Neo4j's example: https://neo4j.com/docs/api/python-driver/current/"
   ]
  },
  {
   "cell_type": "code",
   "execution_count": 2,
   "id": "8b9ec4bb",
   "metadata": {},
   "outputs": [],
   "source": [
    "class Neo4jConnection:\n",
    "    \"\"\"\n",
    "    This class establishes the connectio with Neo4j and enables storing and retreiving data with cypher queries. The code is based on the official Neo4j documentation:\n",
    "    https://neo4j.com/docs/api/python-driver/current/\n",
    "    \"\"\"\n",
    "    def __init__(self, uri, user, pwd):\n",
    "        self.__uri = uri\n",
    "        self.__user = user\n",
    "        self.__pwd = pwd\n",
    "        self.__driver = None\n",
    "        try:\n",
    "            self.__driver = GraphDatabase.driver(self.__uri, auth=(self.__user, self.__pwd))\n",
    "        except Exception as e:\n",
    "            print(\"Failed to create the driver:\", e)\n",
    "        \n",
    "    def close(self):\n",
    "        if self.__driver is not None:\n",
    "            self.__driver.close()\n",
    "        \n",
    "    def query(self, query, db=None):\n",
    "        assert self.__driver is not None, \"Driver not initialized!\"\n",
    "        session = None\n",
    "        response = None\n",
    "        try: \n",
    "            session = self.__driver.session(database=db) if db is not None else self.__driver.session() \n",
    "            response = list(session.run(query))\n",
    "        except Exception as e:\n",
    "            print(\"Query failed:\", e)\n",
    "        finally: \n",
    "            if session is not None:\n",
    "                session.close()\n",
    "        return response"
   ]
  },
  {
   "cell_type": "markdown",
   "id": "a9ef16e1",
   "metadata": {},
   "source": [
    "Below, the neo4j username, password and URL can be given, note that you have the credentials to your own database, the ones that can be found below will not work </br> After this, the connection with the Neo4j database is made"
   ]
  },
  {
   "cell_type": "code",
   "execution_count": 3,
   "id": "a6d943d8",
   "metadata": {},
   "outputs": [],
   "source": [
    "# Give username, password and database URL\n",
    "NEO4J_USER = 'neo4j'\n",
    "NEO4J_PWD = '0611362444'\n",
    "BOLT_URL = 'bolt://localhost:7687/'\n",
    "\n",
    "# Establish connection with Neo4j\n",
    "conn = Neo4jConnection(uri=BOLT_URL, user=NEO4J_USER, pwd=NEO4J_PWD)"
   ]
  },
  {
   "cell_type": "markdown",
   "id": "4a3c0204",
   "metadata": {},
   "source": [
    "## MOL to cypher"
   ]
  },
  {
   "cell_type": "markdown",
   "id": "fdd961af",
   "metadata": {},
   "source": [
    "Choose the folder containing the MOLfiles that have to be converted to cypher (**no spaces in the filename**). The reactant filename starts with the letter R and the product filename starts with the letter P, both followed by a number. If the reactant corresponds with the product they will have the same number. </br>\n",
    "Note that this code is written only to deal with one reaction at a time, not for reaction pathways where a product of one reaction is the reactant of another."
   ]
  },
  {
   "cell_type": "code",
   "execution_count": 4,
   "id": "c8440dc2",
   "metadata": {},
   "outputs": [],
   "source": [
    "# Select the name of the folder with the MOLfiles \n",
    "mols = '1.1-MOL'\n",
    "# Load the file names\n",
    "files = os.listdir(mols)\n",
    "# Sort the files\n",
    "files.sort()"
   ]
  },
  {
   "cell_type": "markdown",
   "id": "39e3a718",
   "metadata": {},
   "source": [
    "If the MOL2 folder does not exist, create it"
   ]
  },
  {
   "cell_type": "code",
   "execution_count": 5,
   "id": "d4d25fa4",
   "metadata": {},
   "outputs": [],
   "source": [
    "# Check for folder called MOL2\n",
    "if os.path.exists('1-MOL2') == False:\n",
    "    # Create MOL2 folder\n",
    "    os.mkdir('1-MOL2')"
   ]
  },
  {
   "cell_type": "markdown",
   "id": "f1012e40",
   "metadata": {},
   "source": [
    "The molecules have to be sorted so that the reactant and product are run in the algorithm successively."
   ]
  },
  {
   "cell_type": "code",
   "execution_count": 6,
   "id": "5ab81bfb",
   "metadata": {},
   "outputs": [],
   "source": [
    "# Create a list for the sorted molecules\n",
    "f_sorted = []\n",
    "\n",
    "for n in files:\n",
    "    # If there is a product, the corresponding reactant will be found \n",
    "    if n[:1] == 'P':\n",
    "        if 'R'+n[1:] in files:\n",
    "            f_sorted.append('R'+n[1:]) # Add reactant to the list\n",
    "        f_sorted.append(n) # Add product to the list\n",
    "    \n",
    "    # If the molecule is not yet in the list, it'll be added\n",
    "    elif n not in f_sorted:\n",
    "        f_sorted.append(n)\n"
   ]
  },
  {
   "cell_type": "markdown",
   "id": "8da727fd",
   "metadata": {},
   "source": [
    "The reaction folder name has to be given below but as only the filenames are used, it is also possible to provide a list with the combined reactant and product. For example 'R01P01' is reactant R01 reacting in product P01."
   ]
  },
  {
   "cell_type": "code",
   "execution_count": 7,
   "id": "ec486408",
   "metadata": {},
   "outputs": [],
   "source": [
    "# Input folder name\n",
    "rxn = '1.1-reactions'\n",
    "# Create list of reactions\n",
    "rxn_lst = os.listdir(rxn)"
   ]
  },
  {
   "cell_type": "markdown",
   "id": "6c642760",
   "metadata": {},
   "source": [
    "Delete, if it is there, the existing 'MOL_to_cypher.cypher' file"
   ]
  },
  {
   "cell_type": "code",
   "execution_count": 8,
   "id": "be9f307d",
   "metadata": {},
   "outputs": [],
   "source": [
    "if os.path.isfile('MOL_to_cypher.cypher') == True:\n",
    "    os.remove('MOL_to_cypher.cypher')"
   ]
  },
  {
   "cell_type": "markdown",
   "id": "d9e4df19",
   "metadata": {},
   "source": [
    "### The main algorithm"
   ]
  },
  {
   "cell_type": "markdown",
   "id": "92c86feb",
   "metadata": {},
   "source": [
    "The code below creates cypher queries and runs them in Neo4j, queries are created for the reaction, molecule, atom, bond and ring nodes together with their edges. This is done with the following steps for each molecule:</br>\n",
    "1. Load the MOLfiles with RDKit, this is used to get the most features for the different nodes\n",
    "2. Create the molecule node and its features\n",
    "3. Convert to a MOL2 file with OpenBabel for additional atom features\n",
    "4. Use the ringinfo function from the functions.py file to get ring information\n",
    "5. If applicable, create the ring nodes and an edge with the molecule\n",
    "6. Create the atom nodes and their edges with the molecule node, and the ring node(s) if this is applicable\n",
    "7. Create the bond nodes and their edges with the molecule and atom nodes\n",
    "8. Run the queries created above in the Neo4j database\n",
    "9. Create all edges between the rings and their corresponding bonds, if applicable, and run it in Neo4j\n",
    "10. If the molecule is a product, search the corresponding product and create a reaction node for them, then run in Neo4j"
   ]
  },
  {
   "cell_type": "code",
   "execution_count": 9,
   "id": "cf1f6ca0",
   "metadata": {},
   "outputs": [
    {
     "name": "stderr",
     "output_type": "stream",
     "text": [
      "1 molecule converted\n",
      "1 molecule converted\n",
      "1 molecule converted\n",
      "1 molecule converted\n",
      "1 molecule converted\n",
      "1 molecule converted\n",
      "1 molecule converted\n",
      "1 molecule converted\n",
      "1 molecule converted\n",
      "1 molecule converted\n",
      "1 molecule converted\n",
      "1 molecule converted\n",
      "1 molecule converted\n",
      "1 molecule converted\n",
      "1 molecule converted\n",
      "1 molecule converted\n",
      "1 molecule converted\n",
      "1 molecule converted\n",
      "1 molecule converted\n",
      "1 molecule converted\n",
      "1 molecule converted\n",
      "1 molecule converted\n",
      "1 molecule converted\n",
      "1 molecule converted\n",
      "1 molecule converted\n",
      "1 molecule converted\n",
      "1 molecule converted\n",
      "1 molecule converted\n",
      "1 molecule converted\n",
      "1 molecule converted\n",
      "1 molecule converted\n"
     ]
    }
   ],
   "source": [
    "# Loop over all molecules\n",
    "for f in f_sorted:\n",
    "    # Store the molecule name and path\n",
    "    mol_name = os.path.splitext(f)[0]\n",
    "\n",
    "    # Delete the existing cypher file\n",
    "    if os.path.isfile('MOL_to_cypher.cypher') == True:\n",
    "        os.remove('MOL_to_cypher.cypher')\n",
    "        \n",
    "    # Open the cypher file to write queries to it\n",
    "    with open('MOL_to_cypher.cypher', 'w') as w:\n",
    "        # Create .mol in f1 and add .mol2 in f2    \n",
    "        f1 = os.path.splitext(f)[0]+os.path.splitext(f)[1]\n",
    "        f2 = f1 + '2'\n",
    "    \n",
    "        # Add RDkit format and conformer\n",
    "        rdmol = Chem.MolFromMolFile(mols+'/'+f1)\n",
    "        conf = rdmol.GetConformer()\n",
    "        # Get SMILES string\n",
    "        smiles = Chem.MolToSmiles(rdmol)\n",
    "    \n",
    "        # Cypher: create the molecule\n",
    "        com = f\"MERGE ({mol_name}:Molecule {{id:'{mol_name}'}})\\n\"\n",
    "        com1 = f\"ON CREATE\\n\"\n",
    "        com2 = f\"SET {mol_name}.smiles = '{smiles}', {mol_name}.Hdonors = {Chem.Lipinski.NumHDonors(rdmol)}, {mol_name}.name = '{mol_name}'\\n\"\n",
    "        w.write(com+com1+com2)\n",
    "    \n",
    "        # Convert to MOL2 with openbabel\n",
    "        !obabel -imol 1.1-MOL/$f1 -omol2 -O1-MOL2/$f2\n",
    "    \n",
    "        # Get features from MOL2 file\n",
    "        mol2 = open('1-MOL2/'+ mol_name +'.mol2')\n",
    "        mf = []\n",
    "        m = 0\n",
    "        \n",
    "        # Looks at every line of the MOL2 file\n",
    "        for n in mol2:\n",
    "            feat = []\n",
    "            \n",
    "            # Ensures only the atom features are used\n",
    "            if '@<TRIPOS>BOND' in n:\n",
    "                m = 0\n",
    "\n",
    "            # Stores the computed charche and type of the atom in the mf list\n",
    "            if m == 1:\n",
    "                feat.append(n[70:76])\n",
    "                feat.append(n[47:52].strip())\n",
    "                mf.append(feat)\n",
    "\n",
    "            # Ensures only the atom features are used\n",
    "            if '@<TRIPOS>ATOM' in n:\n",
    "                m = 1\n",
    "                \n",
    "        # Get the information of all the rings using the ringinfo function from functions.py\n",
    "        ringlst, asys, arings, rings = ringinfo(rdmol)\n",
    "        \n",
    "        # Cypher: create all the rings\n",
    "        for ring in ringlst:\n",
    "            rtype = ring[0][:ring[0].index(\"_\")] # Get the ringtype\n",
    "            com = f\"MERGE ({ring[0]}:Ring {{id:'{mol_name}_{ring[0]}'}})\\n\" # Create the ring node\n",
    "            com1 = f\"ON CREATE\\n\"\n",
    "            com2 = f\"SET {ring[0]}.ring_type = '{rtype}', {ring[0]}.size = {ring[1]}\\n\" # Add the additional features\n",
    "            com2 = com2.replace(f\"ring_type = 'ring'\", \"ring_type = 'aliphatic'\") # Replace ring by aliphatic\n",
    "            com3 = f\"MERGE ({mol_name}) -[:HAS_RING]-> ({ring[0]})\\n\" # Create edge between the molecule and ring nodes\n",
    "            w.write(com+com1+com2+com3) # Write everything to the MOL_to_cypher file\n",
    "    \n",
    "        # Write cypher line for each atom\n",
    "        for atom in rdmol.GetAtoms():\n",
    "            idx = atom.GetIdx() # Get atom index\n",
    "            at_name = mol_name + '_' + str(atom.GetIdx()) # Create atom name by adding the index to the mol name\n",
    "            coords = np.array(conf.GetAtomPosition(0)) # Get the x and y coordinates of the atom\n",
    "\n",
    "            com = f\"MERGE ({at_name}:Atom {{id:'{at_name}'}})\\n\" # Create the atom node\n",
    "            \n",
    "            # Add the additional atom features\n",
    "            com1 = f\"ON CREATE\\n\"\n",
    "            com2 = f\"\"\"\n",
    "                    SET {at_name}.symbol = '{atom.GetSymbol()}', {at_name}.degree = {atom.GetTotalDegree()}, {at_name}.charge = {mf[idx][0]}, {at_name}.atom_type = '{mf[idx][1]}',\n",
    "                    {at_name}.hybridization = '{atom.GetHybridization()}', {at_name}.valence = {atom.GetExplicitValence()}, {at_name}.x = {coords[0]}, {at_name}.y = {coords[1]}\\n\n",
    "                    \"\"\"\n",
    "            \n",
    "            com3 = f\"MERGE ({mol_name}) -[:HAS_ATOM]-> ({at_name})\\n\" # Create the edge between the molecule and atom nodes\n",
    "            w.write(com+com1+com2+com3) # Write everything to the cypher file\n",
    "            \n",
    "            # For every ring in the molecule, check if the atom is in it, if so create a atom-ring edge\n",
    "            for sys in asys:\n",
    "                if idx in asys[sys]:\n",
    "                    w.write(f\"MERGE ({sys}) -[:HAS_ATOM]-> ({at_name})\\n\")\n",
    "\n",
    "            for r in arings:\n",
    "                if idx in arings[r]:\n",
    "                    w.write(f\"MERGE ({r}) -[:HAS_ATOM]-> ({at_name})\\n\")\n",
    "\n",
    "            for r in rings:\n",
    "                if idx in rings[r]:\n",
    "                    w.write(f\"MERGE ({r}) -[:HAS_ATOM]-> ({at_name})\\n\")\n",
    "        \n",
    "        # Write cypher line for each bond\n",
    "        for bond in rdmol.GetBonds():\n",
    "            begin = bond.GetBeginAtomIdx() # Get the begin atom of the bond\n",
    "            end = bond.GetEndAtomIdx() # Get the end atom of the bond\n",
    "            bo_name = mol_name + '_' + str(begin) + '_' + str(end) # Create bond name\n",
    "\n",
    "            # Get the coordinates of the two atoms and calculate the distance\n",
    "            at1Coords = np.array(conf.GetAtomPosition(begin))\n",
    "            at2Coords = np.array(conf.GetAtomPosition(end))\n",
    "            dist = np.linalg.norm(at2Coords - at1Coords)\n",
    "            \n",
    "            # Get the bond type, if the bond is aromatic change it to aromatic\n",
    "            btype = str.lower(str(bond.GetBondType()))\n",
    "            if bond.GetIsAromatic() == True:\n",
    "                btype = 'aromatic'\n",
    "        \n",
    "            com = f\"MERGE ({bo_name}:Bond {{id:'{bo_name}'}})\\n\" # Create bond node\n",
    "        \n",
    "            # Add additional bond features\n",
    "            com1 = f\"ON CREATE\\n\"\n",
    "            com2 = f\"SET {bo_name}.bond_type = '{btype}', {bo_name}.distance = {dist}\\n\"\n",
    "            com3 = f\"MERGE ({mol_name}) -[:HAS_BOND]-> ({bo_name})\\n\" # Create molecule-bond edge\n",
    "            com4 = f\"MERGE ({mol_name+'_'+str(begin)}) -[:BONDED_WITH]-> ({bo_name}) <-[:BONDED_WITH]- ({mol_name+'_'+str(end)})\\n\" # Create atom-bond edge\n",
    "\n",
    "            w.write(com+com1+com2+com3+com4) # Write everything to cyper file\n",
    "                \n",
    "        w.write(';\\n') # Add to close cypher part of the specific molecule\n",
    "\n",
    "    # Open the created cypher file and run it in Neo4j\n",
    "    f = open('MOL_to_cypher.cypher', 'r')\n",
    "    conn.query(f.read())\n",
    "    f.close()\n",
    "\n",
    "    os.remove('MOL_to_cypher.cypher') # Remove existing cypher file\n",
    "    \n",
    "    # Create cypher command to create an edge between the ring and its bonds\n",
    "    com = f\"MATCH (m:Ring)-[:HAS_ATOM]->(a1:Atom)-[:BONDED_WITH]->(b:Bond)<-[:BONDED_WITH]-(a2:Atom)<-[:HAS_ATOM]-(m)\\n\"\n",
    "    com1 = f\"MERGE (m)-[:HAS_BOND]->(b)\\n\"\n",
    "    com2 = f\";\\n\"\n",
    "    # Run in Neo4j\n",
    "    conn.query(com+com1+com2)\n",
    "\n",
    "    # Add reaction node and connected edges\n",
    "    if mol_name[:1] == 'P':\n",
    "        name = 'R' + mol_name[1:] + mol_name\n",
    "\n",
    "        # If it exists, remove the cypher file\n",
    "        if os.path.isfile('MOL_to_cypher.cypher') == True:\n",
    "            os.remove('MOL_to_cypher.cypher')\n",
    "\n",
    "        with open('MOL_to_cypher.cypher', 'w') as w:\n",
    "            com = f\"MERGE ({name}:Reaction{{id:'{name}'}})\\n\" # Create reaction node\n",
    "\n",
    "            # Add additional reaction features\n",
    "            com1 = f\"ON CREATE\\n\"\n",
    "            com2 = f\"SET {name}.type = 'alcohol'\\n\"\n",
    "                \n",
    "            # Match create the molecule-reaction edges\n",
    "            com3 = f\"WITH {name}\\n\"\n",
    "            com4 = f\"MATCH (p:Molecule),(r:Molecule)\\n\"\n",
    "            com5 = f\"WHERE p.name = '{name[3:]}' AND r.name = '{name[:-3]}'\\n\" # This only works with the format currently provided\n",
    "            com6 = f\"MERGE (r)-[:REACTS_IN]->({name})-[:PRODUCES]->(p)\\n\"\n",
    "            com7 = f\";\\n\"\n",
    "            \n",
    "            w.write(com+com1+com2+com3+com4+com5+com6+com7) # Write everything to the cypher file\n",
    "            w.close()\n",
    "            \n",
    "            # Open the created cypher file and run it in Neo4j\n",
    "            f = open('MOL_to_cypher.cypher', 'r')\n",
    "            conn.query(f.read())\n",
    "            f.close()"
   ]
  }
 ],
 "metadata": {
  "kernelspec": {
   "display_name": "Python 3.10.4 ('GNN')",
   "language": "python",
   "name": "python3"
  },
  "language_info": {
   "codemirror_mode": {
    "name": "ipython",
    "version": 3
   },
   "file_extension": ".py",
   "mimetype": "text/x-python",
   "name": "python",
   "nbconvert_exporter": "python",
   "pygments_lexer": "ipython3",
   "version": "3.7.13"
  },
  "vscode": {
   "interpreter": {
    "hash": "0738a566eb3943a9001d0b87275707c0bb8fdd2f63a0165cae641b428516525a"
   }
  }
 },
 "nbformat": 4,
 "nbformat_minor": 5
}
