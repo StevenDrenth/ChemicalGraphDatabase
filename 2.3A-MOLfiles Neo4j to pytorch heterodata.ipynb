{
 "cells": [
  {
   "cell_type": "markdown",
   "metadata": {},
   "source": [
    "# Neo4j to heterogeneous PyG files\n",
    "This code connects to a Neo4j database of choice and gets the needed information to construct the files that are needed for a GNN analysis with pytorch geometric, using the heterogeneous input format. For this format, the code below should output the following:\n",
    "1.\tThe node files, for each different node category the feaheterores of every node are be stored, in our case these are the following nodes:\n",
    "-\tMolecules\n",
    "-\tAtoms\n",
    "-\tBonds\n",
    "-\tRings\n",
    "-\tReactions\n",
    "2.\tThe edge files, for every edge category an adjacency matrix is needed and it also has to be specified between which nodes these edges occur. This is done by stating ‘Node_name_1’, ‘Edge_name’, ‘Node_name_2’ in this order. When doing this for all nodes and edges the following is created:\n",
    "-\t'molecule', 'has_atom1', 'atom'\n",
    "-\t'molecule', 'has_atom1', 'atom'\n",
    "-\t'molecule', 'has_bond1', 'bond'\n",
    "-\t'molecule', 'has_ring', 'ring'\n",
    "-\t'atom', 'bonded_with', 'bond'\n",
    "-\t'ring', 'has_atom2', 'atom'\n",
    "-\t'ring', 'has_bond2', 'bond'\n",
    "-\t'molecule', 'reacts_in', 'reaction'\n",
    "-\t'reaction', 'produces', 'molecule'\n"
   ]
  },
  {
   "cell_type": "markdown",
   "metadata": {},
   "source": [
    "## Import necessary packages"
   ]
  },
  {
   "cell_type": "code",
   "execution_count": 15,
   "metadata": {},
   "outputs": [],
   "source": [
    "from neo4j import GraphDatabase\n",
    "import pandas as pd\n",
    "import numpy as np\n",
    "from functions import to_int\n",
    "import shutil\n",
    "import random\n",
    "import os"
   ]
  },
  {
   "cell_type": "markdown",
   "metadata": {},
   "source": [
    "## Configure Neo4j connection\n",
    "Using the official Neo4j tool, the code below lets you connect to a Neo4j database of choice\n",
    "</br>This code is based on Neo4j's example: https://neo4j.com/docs/api/python-driver/current/"
   ]
  },
  {
   "cell_type": "code",
   "execution_count": 16,
   "metadata": {},
   "outputs": [],
   "source": [
    "from neo4j import GraphDatabase\n",
    "import pandas as pd\n",
    "\n",
    "class Neo4jConnection:\n",
    "    \n",
    "    def __init__(self, uri, user, pwd):\n",
    "        self.__uri = uri\n",
    "        self.__user = user\n",
    "        self.__pwd = pwd\n",
    "        self.__driver = None\n",
    "        try:\n",
    "            self.__driver = GraphDatabase.driver(self.__uri, auth=(self.__user, self.__pwd))\n",
    "        except Exception as e:\n",
    "            print(\"Failed to create the driver:\", e)\n",
    "        \n",
    "    def close(self):\n",
    "        if self.__driver is not None:\n",
    "            self.__driver.close()\n",
    "        \n",
    "    def query(self, query, db=None):\n",
    "        assert self.__driver is not None, \"Driver not initialized!\"\n",
    "        session = None\n",
    "        response = None\n",
    "        try: \n",
    "            session = self.__driver.session(database=db) if db is not None else self.__driver.session() \n",
    "            response = list(session.run(query))\n",
    "        except Exception as e:\n",
    "            print(\"Query failed:\", e)\n",
    "        finally: \n",
    "            if session is not None:\n",
    "                session.close()\n",
    "        return response"
   ]
  },
  {
   "cell_type": "markdown",
   "metadata": {},
   "source": [
    "Below, the neo4j username, password and URL can be given, note that you have the credentials to your own database, the ones that can be found below will not work. </br> After this, the connection with the Neo4j database is made."
   ]
  },
  {
   "cell_type": "code",
   "execution_count": 17,
   "metadata": {},
   "outputs": [],
   "source": [
    "# Give username, password and database URL\n",
    "NEO4J_USER = 'neo4j'\n",
    "NEO4J_PWD = '0611362444'\n",
    "BOLT_URL = 'bolt://localhost:7687/'\n",
    "\n",
    "# Establish connection with Neo4j\n",
    "conn = Neo4jConnection(uri=BOLT_URL, user=NEO4J_USER, pwd=NEO4J_PWD)"
   ]
  },
  {
   "cell_type": "markdown",
   "metadata": {},
   "source": [
    "## Check for necessary folders"
   ]
  },
  {
   "cell_type": "code",
   "execution_count": 18,
   "metadata": {},
   "outputs": [],
   "source": [
    "# Check if a folder exists, otherwise create it\n",
    "\n",
    "if os.path.exists('2-Pytorch geometric data/hetero/MOLfiles/raw') == True:\n",
    "    # If the MOLfiles folder exists, delete it first\n",
    "    shutil.rmtree('2-Pytorch geometric data/hetero/MOLfiles/raw')\n",
    "    os.mkdir('2-Pytorch geometric data/hetero/MOLfiles/raw')\n",
    "\n",
    "elif os.path.exists('2-Pytorch geometric data/hetero/MOLfiles') == True:\n",
    "    os.mkdir('2-Pytorch geometric data/hetero/MOLfiles/raw')\n",
    "\n",
    "elif os.path.exists('2-Pytorch geometric data/hetero') == True:\n",
    "    os.mkdir('2-Pytorch geometric data/hetero/MOLfiles')\n",
    "    os.mkdir('2-Pytorch geometric data/hetero/MOLfiles/raw')\n",
    "\n",
    "elif os.path.exists('2-Pytorch geometric data') == True:\n",
    "    os.mkdir('2-Pytorch geometric data/hetero')\n",
    "    os.mkdir('2-Pytorch geometric data/hetero/MOLfiles')\n",
    "    os.mkdir('2-Pytorch geometric data/hetero/MOLfiles/raw')\n",
    "\n",
    "else:\n",
    "    os.mkdir('2-Pytorch geometric data')\n",
    "    os.mkdir('2-Pytorch geometric data/hetero')\n",
    "    os.mkdir('2-Pytorch geometric data/hetero/MOLfiles')\n",
    "    os.mkdir('2-Pytorch geometric data/hetero/MOLfiles/raw')"
   ]
  },
  {
   "cell_type": "markdown",
   "metadata": {},
   "source": [
    "## Obtain the data\n",
    "First, of each node type, a dataframe with the ID numbers of the nodes is costructed"
   ]
  },
  {
   "cell_type": "code",
   "execution_count": 19,
   "metadata": {},
   "outputs": [],
   "source": [
    "# Create a dataframe with the node IDs for every node type\n",
    "Molecule_id = pd.DataFrame(conn.query(f\"MATCH (m:Molecule) RETURN ID(m)\"))[0]\n",
    "Atom_id = pd.DataFrame(conn.query(f\"MATCH (a:Atom) RETURN ID(a)\"))[0]\n",
    "Bond_id = pd.DataFrame(conn.query(f\"MATCH (b:Bond) RETURN ID(b)\"))[0]\n",
    "Ring_id = pd.DataFrame(conn.query(f\"MATCH (r:Ring) RETURN ID(r)\"))[0]\n",
    "Reaction_id = pd.DataFrame(conn.query(f\"MATCH (rxn:Reaction) RETURN ID(rxn)\"))[0]"
   ]
  },
  {
   "cell_type": "code",
   "execution_count": 20,
   "metadata": {},
   "outputs": [],
   "source": [
    "def new_index(df):\n",
    "    \"\"\"\n",
    "    Sets all adjacency matrices to start from 0\n",
    "    \"\"\"\n",
    "    # Checks the right node type and runs the code specific for this node type\n",
    "    for n in [1,3]:\n",
    "        if df[n][1] == 'Molecule':\n",
    "            df[n-1] = df[n-1].replace(list(Molecule_id.unique()), range(0, Molecule_id.nunique()))\n",
    "\n",
    "        elif df[n][1] == 'Atom':\n",
    "            df[n-1] = df[n-1].replace(list(Atom_id.unique()), range(0, Atom_id.nunique()))\n",
    "\n",
    "        elif df[n][1] == 'Bond':\n",
    "            df[n-1] = df[n-1].replace(list(Bond_id.unique()), range(0, Bond_id.nunique()))\n",
    "\n",
    "        elif df[n][1] == 'Ring':\n",
    "            df[n-1] = df[n-1].replace(list(Ring_id.unique()), range(0, Ring_id.nunique()))\n",
    "\n",
    "        elif df[n][1] == 'Reaction':\n",
    "            df[n-1] = df[n-1].replace(list(Reaction_id.unique()), range(0, Reaction_id.nunique()))"
   ]
  },
  {
   "cell_type": "markdown",
   "metadata": {},
   "source": [
    "### Get the different adjacency matrices"
   ]
  },
  {
   "cell_type": "code",
   "execution_count": 21,
   "metadata": {},
   "outputs": [],
   "source": [
    "# Loops over four different edge types to query these and create the adjacency matrix\n",
    "for n in ['BONDED_WITH', 'HAS_RING', 'REACTS_IN', 'PRODUCES']:\n",
    "    adj_matrix = pd.DataFrame(conn.query(f\"MATCH (a)-[r:{n}]->(b) RETURN ID(a), labels(a), ID(b), labels(b)\")) # Cypher query\n",
    "    adj_matrix[1] = adj_matrix[1].str[0]\n",
    "    adj_matrix[3] = adj_matrix[3].str[0]\n",
    "    new_index(adj_matrix)\n",
    "    adj_matrix[[0,2]].to_csv(f\"2-Pytorch geometric data/hetero/MOLfiles/raw/A_{n}.txt\", index=False, header=False) # Export csv as .txt\n",
    "\n",
    "# Loops over two different edge types to query these and create the adjacency matrix\n",
    "# As both the molecule and ring are connected to atoms and bonds this has to be done seperately\n",
    "for n in ['HAS_BOND', 'HAS_ATOM']:\n",
    "    for m in ['Molecule', 'Ring']:\n",
    "        adj_matrix = pd.DataFrame(conn.query(f\"MATCH (a:{m})-[r:{n}]->(b) RETURN ID(a), labels(a), ID(b), labels(b)\")) # Cypher query\n",
    "        adj_matrix[1] = adj_matrix[1].str[0]\n",
    "        adj_matrix[3] = adj_matrix[3].str[0]\n",
    "        new_index(adj_matrix)\n",
    "        adj_matrix[[0,2]].to_csv(f\"2-Pytorch geometric data/hetero/MOLfiles/raw/A_{n}_{m}.txt\", index=False, header=False) # Export csv as .txt\n"
   ]
  },
  {
   "cell_type": "markdown",
   "metadata": {},
   "source": [
    "### Get the attributes of every node type\n",
    "Starting with the molecule nodes"
   ]
  },
  {
   "cell_type": "code",
   "execution_count": 22,
   "metadata": {},
   "outputs": [],
   "source": [
    "# Query the attributes of the specific node\n",
    "att_molecule = pd.DataFrame(conn.query(\"\"\"MATCH (m:Molecule) RETURN m.Hdonors\"\"\"), columns=['Hdonors'])\n",
    "\n",
    "# Convert categorical values to integers\n",
    "att_molecule = to_int(att_molecule)\n",
    "\n",
    "# One hot encode the necessary features\n",
    "Hd = pd.get_dummies(att_molecule['Hdonors'], prefix='Hdonors')\n",
    "att_molecule = Hd\n",
    "\n",
    "# Write to .txt\n",
    "att_molecule.to_csv(f\"2-Pytorch geometric data/hetero/MOLfiles/raw/att_molecule.txt\", index=False, header=False)"
   ]
  },
  {
   "cell_type": "markdown",
   "metadata": {},
   "source": [
    "Atom nodes"
   ]
  },
  {
   "cell_type": "code",
   "execution_count": 23,
   "metadata": {},
   "outputs": [],
   "source": [
    "# Query the attributes of the specific node\n",
    "att_atom = pd.DataFrame(conn.query(\"\"\"MATCH (a:Atom) RETURN a.symbol, a.degree, a.valence, a.atom_type, a.charge, a.hybridization, a.x, a.y\"\"\"), columns=['symbol', 'degree', 'valence', 'atom_type', 'charge', 'hybridization', 'x', 'y'])\n",
    "\n",
    "# Convert categorical values to integers\n",
    "att_atom = to_int(att_atom)\n",
    "\n",
    "# One hot encode the necessary features\n",
    "sym = pd.get_dummies(att_atom['symbol'], prefix='symbol')\n",
    "val = pd.get_dummies(att_atom['valence'], prefix='valence')\n",
    "at = pd.get_dummies(att_atom['atom_type'], prefix='atom_type')\n",
    "hyb = pd.get_dummies(att_atom['hybridization'], prefix='hybridization')\n",
    "\n",
    "# Join all created dataframes, drop old columns\n",
    "att_atom = (sym.join(att_atom).join(val).join(at).join(hyb)).drop(columns=['symbol', 'valence', 'atom_type', 'hybridization'])\n",
    "\n",
    "# Write to .txt\n",
    "att_atom.to_csv(f\"2-Pytorch geometric data/hetero/MOLfiles/raw/att_atom.txt\", index=False, header=False)"
   ]
  },
  {
   "cell_type": "markdown",
   "metadata": {},
   "source": [
    "Bond nodes"
   ]
  },
  {
   "cell_type": "code",
   "execution_count": 24,
   "metadata": {},
   "outputs": [],
   "source": [
    "# Query the attributes of the specific node\n",
    "att_bond = pd.DataFrame(conn.query(\"\"\"MATCH (b:Bond) RETURN b.bond_type, b.distance\"\"\"), columns=['bond_type', 'distance'])\n",
    "\n",
    "# Convert categorical values to integers\n",
    "att_bond = to_int(att_bond)\n",
    "\n",
    "# One hot encode the necessary features\n",
    "bt = pd.get_dummies(att_bond['bond_type'], prefix='bond_type')\n",
    "\n",
    "# Drop unecessary columns\n",
    "att_bond = bt.join(att_bond).drop(columns=['bond_type'])\n",
    "\n",
    "# Write to .txt\n",
    "att_bond.to_csv(f\"2-Pytorch geometric data/hetero/MOLfiles/raw/att_bond.txt\", index=False, header=False)"
   ]
  },
  {
   "cell_type": "markdown",
   "metadata": {},
   "source": [
    "Ring nodes"
   ]
  },
  {
   "cell_type": "code",
   "execution_count": 25,
   "metadata": {},
   "outputs": [],
   "source": [
    "# Query the attributes of the specific node\n",
    "att_ring = pd.DataFrame(conn.query(\"\"\"MATCH (r:Ring) RETURN r.ring_type, r.size\"\"\"), columns=['ring_type', 'size'])\n",
    "\n",
    "# Convert categorical values to integers\n",
    "att_ring = to_int(att_ring)\n",
    "\n",
    "# One hot encode the necessary features\n",
    "rt = pd.get_dummies(att_ring['ring_type'], prefix='ring_type')\n",
    "att_ring = rt.join(att_ring).drop(columns=['ring_type'])\n",
    "\n",
    "# Write to .txt\n",
    "att_ring.to_csv(f\"2-Pytorch geometric data/hetero/MOLfiles/raw/att_ring.txt\", index=False, header=False)"
   ]
  },
  {
   "cell_type": "markdown",
   "metadata": {},
   "source": [
    "Reaction nodes"
   ]
  },
  {
   "cell_type": "code",
   "execution_count": 26,
   "metadata": {},
   "outputs": [],
   "source": [
    "# Query the attributes of the specific node\n",
    "att_reaction = pd.DataFrame(conn.query(\"\"\"MATCH (rxn:Reaction) RETURN rxn.type\"\"\"), columns=['type'])\n",
    "\n",
    "# Create dummy reaction feature\n",
    "att_reaction = to_int(att_reaction)\n",
    "\n",
    "# Write to .txt\n",
    "att_reaction[['type']].to_csv(f\"2-Pytorch geometric data/hetero/MOLfiles/raw/att_reaction.txt\", index=False, header=False)"
   ]
  },
  {
   "cell_type": "markdown",
   "metadata": {},
   "source": [
    "### Determine the y variables\n",
    "If the molecule is in a reaction the y value will be 1, otherwise it will be 0"
   ]
  },
  {
   "cell_type": "code",
   "execution_count": 27,
   "metadata": {},
   "outputs": [],
   "source": [
    "# Query the molecules that are in a reaction\n",
    "y1 = pd.DataFrame(conn.query(\"\"\"MATCH (m:Molecule)--(rxn:Reaction)--(m2:Molecule) RETURN ID(m)\"\"\"), columns=['ID'])\n",
    "# Query the molecules that are not in a reaction\n",
    "y2 = pd.DataFrame(conn.query(\"\"\"MATCH (m:Molecule) WHERE NOT (m)--(:Reaction)--(:Molecule) RETURN ID(m)\"\"\"), columns=['ID'])\n",
    "\n",
    "# Add y-values of 1\n",
    "y1['y']=1\n",
    "# Add y-values of 0\n",
    "y2['y']=0\n",
    "\n",
    "# Concatenate both dataframes\n",
    "y = pd.concat([y1, y2])\n",
    "\n",
    "# Write to .txt files\n",
    "y['y'].to_csv(f\"2-Pytorch geometric data/hetero/MOLfiles/raw/mol_y.txt\", index=False, header=False)\n"
   ]
  },
  {
   "cell_type": "markdown",
   "metadata": {},
   "source": [
    "## Get the train and test labels\n",
    "Determine if a molecule belongs to the train or test dataset"
   ]
  },
  {
   "cell_type": "code",
   "execution_count": 28,
   "metadata": {},
   "outputs": [],
   "source": [
    "# Give the data train and test labels\n",
    "\n",
    "# Get number of molecules\n",
    "mols = len(Molecule_id)\n",
    "\n",
    "# Create empty train and test lists\n",
    "train_mask =  []\n",
    "test_mask = []\n",
    "\n",
    "# Determine 10 random values to be in the test set\n",
    "test = random.sample(range(mols), 10)\n",
    "\n",
    "# Append test to test_mask, train to train_mask\n",
    "for n in range(mols):\n",
    "    if n in test:\n",
    "        train_mask.append(0)\n",
    "        test_mask.append(1)\n",
    "\n",
    "    else:\n",
    "        train_mask.append(1)\n",
    "        test_mask.append(0)\n",
    "\n",
    "# Write both to .txt file\n",
    "pd.DataFrame(train_mask).to_csv(f\"2-Pytorch geometric data/hetero/MOLfiles/raw/train_mask.txt\", index=False, header=False)\n",
    "pd.DataFrame(test_mask).to_csv(f\"2-Pytorch geometric data/hetero/MOLfiles/raw/test_mask.txt\", index=False, header=False)"
   ]
  }
 ],
 "metadata": {
  "kernelspec": {
   "display_name": "Python 3.7.13 ('GNN')",
   "language": "python",
   "name": "python3"
  },
  "language_info": {
   "codemirror_mode": {
    "name": "ipython",
    "version": 3
   },
   "file_extension": ".py",
   "mimetype": "text/x-python",
   "name": "python",
   "nbconvert_exporter": "python",
   "pygments_lexer": "ipython3",
   "version": "3.7.13"
  },
  "orig_nbformat": 4,
  "vscode": {
   "interpreter": {
    "hash": "0738a566eb3943a9001d0b87275707c0bb8fdd2f63a0165cae641b428516525a"
   }
  }
 },
 "nbformat": 4,
 "nbformat_minor": 2
}
